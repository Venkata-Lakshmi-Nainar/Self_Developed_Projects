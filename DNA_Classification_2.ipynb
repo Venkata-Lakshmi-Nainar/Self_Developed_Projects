{
 "cells": [
  {
   "cell_type": "code",
   "execution_count": 1,
   "id": "29bfa46c-8882-43b6-9f4e-beaf470f80b9",
   "metadata": {},
   "outputs": [],
   "source": [
    "import numpy as np\n",
    "import pandas as pd\n",
    "import matplotlib.pyplot as plt\n",
    "%matplotlib inline"
   ]
  },
  {
   "cell_type": "code",
   "execution_count": 2,
   "id": "8e9c2d49-8f5c-4b29-939a-20a37803a0fd",
   "metadata": {},
   "outputs": [
    {
     "data": {
      "text/html": [
       "<div>\n",
       "<style scoped>\n",
       "    .dataframe tbody tr th:only-of-type {\n",
       "        vertical-align: middle;\n",
       "    }\n",
       "\n",
       "    .dataframe tbody tr th {\n",
       "        vertical-align: top;\n",
       "    }\n",
       "\n",
       "    .dataframe thead th {\n",
       "        text-align: right;\n",
       "    }\n",
       "</style>\n",
       "<table border=\"1\" class=\"dataframe\">\n",
       "  <thead>\n",
       "    <tr style=\"text-align: right;\">\n",
       "      <th></th>\n",
       "      <th>Point_of_Connectivity</th>\n",
       "      <th>Gene_ID</th>\n",
       "      <th>DNA_Sequence</th>\n",
       "    </tr>\n",
       "  </thead>\n",
       "  <tbody>\n",
       "    <tr>\n",
       "      <th>0</th>\n",
       "      <td>EI</td>\n",
       "      <td>ATRINS-DONOR-521</td>\n",
       "      <td>CCAGCTGCATCACAGGAGGCCAGCGAGCAGG...</td>\n",
       "    </tr>\n",
       "    <tr>\n",
       "      <th>1</th>\n",
       "      <td>EI</td>\n",
       "      <td>ATRINS-DONOR-905</td>\n",
       "      <td>AGACCCGCCGGGAGGCGGAGGACCTGCAGGG...</td>\n",
       "    </tr>\n",
       "    <tr>\n",
       "      <th>2</th>\n",
       "      <td>EI</td>\n",
       "      <td>BABAPOE-DONOR-30</td>\n",
       "      <td>GAGGTGAAGGACGTCCTTCCCCAGGAGCCGG...</td>\n",
       "    </tr>\n",
       "    <tr>\n",
       "      <th>3</th>\n",
       "      <td>EI</td>\n",
       "      <td>BABAPOE-DONOR-867</td>\n",
       "      <td>GGGCTGCGTTGCTGGTCACATTCCTGGCAGGT...</td>\n",
       "    </tr>\n",
       "    <tr>\n",
       "      <th>4</th>\n",
       "      <td>EI</td>\n",
       "      <td>BABAPOE-DONOR-2817</td>\n",
       "      <td>GCTCAGCCCCCAGGTCACCCAGGAACTGACGTG...</td>\n",
       "    </tr>\n",
       "    <tr>\n",
       "      <th>...</th>\n",
       "      <td>...</td>\n",
       "      <td>...</td>\n",
       "      <td>...</td>\n",
       "    </tr>\n",
       "    <tr>\n",
       "      <th>3185</th>\n",
       "      <td>N</td>\n",
       "      <td>ORAHBPSBD-NEG-2881</td>\n",
       "      <td>TCTCTTCCCTTCCCCTCTCTCTTTCTTTCTTTT...</td>\n",
       "    </tr>\n",
       "    <tr>\n",
       "      <th>3186</th>\n",
       "      <td>N</td>\n",
       "      <td>ORAINVOL-NEG-2161</td>\n",
       "      <td>GAGCTCCCAGAGCAGCAAGAGGGCCAGCTGAA...</td>\n",
       "    </tr>\n",
       "    <tr>\n",
       "      <th>3187</th>\n",
       "      <td>N</td>\n",
       "      <td>ORARGIT-NEG-241</td>\n",
       "      <td>TCTCGGGGGCGGCCGGCGCGGCGGGGAGCG...</td>\n",
       "    </tr>\n",
       "    <tr>\n",
       "      <th>3188</th>\n",
       "      <td>N</td>\n",
       "      <td>TARHBB-NEG-541</td>\n",
       "      <td>ATTCTACTTAGTAAACATAATTTCTTGTG...</td>\n",
       "    </tr>\n",
       "    <tr>\n",
       "      <th>3189</th>\n",
       "      <td>N</td>\n",
       "      <td>TARHBD-NEG-1981</td>\n",
       "      <td>AGGCTGCCTATCAGAAGGTGGTGGCTGGTG...</td>\n",
       "    </tr>\n",
       "  </tbody>\n",
       "</table>\n",
       "<p>3190 rows × 3 columns</p>\n",
       "</div>"
      ],
      "text/plain": [
       "     Point_of_Connectivity                  Gene_ID  \\\n",
       "0                       EI         ATRINS-DONOR-521   \n",
       "1                       EI         ATRINS-DONOR-905   \n",
       "2                       EI         BABAPOE-DONOR-30   \n",
       "3                       EI        BABAPOE-DONOR-867   \n",
       "4                       EI       BABAPOE-DONOR-2817   \n",
       "...                    ...                      ...   \n",
       "3185                     N       ORAHBPSBD-NEG-2881   \n",
       "3186                     N        ORAINVOL-NEG-2161   \n",
       "3187                     N          ORARGIT-NEG-241   \n",
       "3188                     N           TARHBB-NEG-541   \n",
       "3189                     N          TARHBD-NEG-1981   \n",
       "\n",
       "                                           DNA_Sequence  \n",
       "0                    CCAGCTGCATCACAGGAGGCCAGCGAGCAGG...  \n",
       "1                    AGACCCGCCGGGAGGCGGAGGACCTGCAGGG...  \n",
       "2                    GAGGTGAAGGACGTCCTTCCCCAGGAGCCGG...  \n",
       "3                   GGGCTGCGTTGCTGGTCACATTCCTGGCAGGT...  \n",
       "4                  GCTCAGCCCCCAGGTCACCCAGGAACTGACGTG...  \n",
       "...                                                 ...  \n",
       "3185               TCTCTTCCCTTCCCCTCTCTCTTTCTTTCTTTT...  \n",
       "3186                GAGCTCCCAGAGCAGCAAGAGGGCCAGCTGAA...  \n",
       "3187                  TCTCGGGGGCGGCCGGCGCGGCGGGGAGCG...  \n",
       "3188                   ATTCTACTTAGTAAACATAATTTCTTGTG...  \n",
       "3189                  AGGCTGCCTATCAGAAGGTGGTGGCTGGTG...  \n",
       "\n",
       "[3190 rows x 3 columns]"
      ]
     },
     "execution_count": 2,
     "metadata": {},
     "output_type": "execute_result"
    }
   ],
   "source": [
    "dna_data = pd.read_csv('Splice_Data.csv')\n",
    "dna_data"
   ]
  },
  {
   "cell_type": "code",
   "execution_count": 3,
   "id": "e49c4638-e82e-4fef-8b89-630599560ed9",
   "metadata": {},
   "outputs": [],
   "source": [
    "dna_data['DNA_Sequence'] = dna_data['DNA_Sequence'].str.replace(' ', '')"
   ]
  },
  {
   "cell_type": "code",
   "execution_count": 4,
   "id": "cfdc3e33-2058-403e-bf80-b47dc4f2699d",
   "metadata": {},
   "outputs": [
    {
     "data": {
      "text/html": [
       "<div>\n",
       "<style scoped>\n",
       "    .dataframe tbody tr th:only-of-type {\n",
       "        vertical-align: middle;\n",
       "    }\n",
       "\n",
       "    .dataframe tbody tr th {\n",
       "        vertical-align: top;\n",
       "    }\n",
       "\n",
       "    .dataframe thead th {\n",
       "        text-align: right;\n",
       "    }\n",
       "</style>\n",
       "<table border=\"1\" class=\"dataframe\">\n",
       "  <thead>\n",
       "    <tr style=\"text-align: right;\">\n",
       "      <th></th>\n",
       "      <th>Point_of_Connectivity</th>\n",
       "      <th>Gene_ID</th>\n",
       "      <th>DNA_Sequence</th>\n",
       "    </tr>\n",
       "  </thead>\n",
       "  <tbody>\n",
       "    <tr>\n",
       "      <th>0</th>\n",
       "      <td>EI</td>\n",
       "      <td>ATRINS-DONOR-521</td>\n",
       "      <td>CCAGCTGCATCACAGGAGGCCAGCGAGCAGGTCTGTTCCAAGGGCC...</td>\n",
       "    </tr>\n",
       "    <tr>\n",
       "      <th>1</th>\n",
       "      <td>EI</td>\n",
       "      <td>ATRINS-DONOR-905</td>\n",
       "      <td>AGACCCGCCGGGAGGCGGAGGACCTGCAGGGTGAGCCCCACCGCCC...</td>\n",
       "    </tr>\n",
       "    <tr>\n",
       "      <th>2</th>\n",
       "      <td>EI</td>\n",
       "      <td>BABAPOE-DONOR-30</td>\n",
       "      <td>GAGGTGAAGGACGTCCTTCCCCAGGAGCCGGTGAGAAGCGCAGTCG...</td>\n",
       "    </tr>\n",
       "    <tr>\n",
       "      <th>3</th>\n",
       "      <td>EI</td>\n",
       "      <td>BABAPOE-DONOR-867</td>\n",
       "      <td>GGGCTGCGTTGCTGGTCACATTCCTGGCAGGTATGGGGCGGGGCTT...</td>\n",
       "    </tr>\n",
       "    <tr>\n",
       "      <th>4</th>\n",
       "      <td>EI</td>\n",
       "      <td>BABAPOE-DONOR-2817</td>\n",
       "      <td>GCTCAGCCCCCAGGTCACCCAGGAACTGACGTGAGTGTCCCCATCC...</td>\n",
       "    </tr>\n",
       "    <tr>\n",
       "      <th>...</th>\n",
       "      <td>...</td>\n",
       "      <td>...</td>\n",
       "      <td>...</td>\n",
       "    </tr>\n",
       "    <tr>\n",
       "      <th>3185</th>\n",
       "      <td>N</td>\n",
       "      <td>ORAHBPSBD-NEG-2881</td>\n",
       "      <td>TCTCTTCCCTTCCCCTCTCTCTTTCTTTCTTTTCTCTCCTCTTCTC...</td>\n",
       "    </tr>\n",
       "    <tr>\n",
       "      <th>3186</th>\n",
       "      <td>N</td>\n",
       "      <td>ORAINVOL-NEG-2161</td>\n",
       "      <td>GAGCTCCCAGAGCAGCAAGAGGGCCAGCTGAAGCACCTGGAGAAGC...</td>\n",
       "    </tr>\n",
       "    <tr>\n",
       "      <th>3187</th>\n",
       "      <td>N</td>\n",
       "      <td>ORARGIT-NEG-241</td>\n",
       "      <td>TCTCGGGGGCGGCCGGCGCGGCGGGGAGCGGTCCCCGGCCGCGGCC...</td>\n",
       "    </tr>\n",
       "    <tr>\n",
       "      <th>3188</th>\n",
       "      <td>N</td>\n",
       "      <td>TARHBB-NEG-541</td>\n",
       "      <td>ATTCTACTTAGTAAACATAATTTCTTGTGCTAGATAACCAAATTAA...</td>\n",
       "    </tr>\n",
       "    <tr>\n",
       "      <th>3189</th>\n",
       "      <td>N</td>\n",
       "      <td>TARHBD-NEG-1981</td>\n",
       "      <td>AGGCTGCCTATCAGAAGGTGGTGGCTGGTGTGGCTGCTGCTCTGGC...</td>\n",
       "    </tr>\n",
       "  </tbody>\n",
       "</table>\n",
       "<p>3190 rows × 3 columns</p>\n",
       "</div>"
      ],
      "text/plain": [
       "     Point_of_Connectivity                  Gene_ID  \\\n",
       "0                       EI         ATRINS-DONOR-521   \n",
       "1                       EI         ATRINS-DONOR-905   \n",
       "2                       EI         BABAPOE-DONOR-30   \n",
       "3                       EI        BABAPOE-DONOR-867   \n",
       "4                       EI       BABAPOE-DONOR-2817   \n",
       "...                    ...                      ...   \n",
       "3185                     N       ORAHBPSBD-NEG-2881   \n",
       "3186                     N        ORAINVOL-NEG-2161   \n",
       "3187                     N          ORARGIT-NEG-241   \n",
       "3188                     N           TARHBB-NEG-541   \n",
       "3189                     N          TARHBD-NEG-1981   \n",
       "\n",
       "                                           DNA_Sequence  \n",
       "0     CCAGCTGCATCACAGGAGGCCAGCGAGCAGGTCTGTTCCAAGGGCC...  \n",
       "1     AGACCCGCCGGGAGGCGGAGGACCTGCAGGGTGAGCCCCACCGCCC...  \n",
       "2     GAGGTGAAGGACGTCCTTCCCCAGGAGCCGGTGAGAAGCGCAGTCG...  \n",
       "3     GGGCTGCGTTGCTGGTCACATTCCTGGCAGGTATGGGGCGGGGCTT...  \n",
       "4     GCTCAGCCCCCAGGTCACCCAGGAACTGACGTGAGTGTCCCCATCC...  \n",
       "...                                                 ...  \n",
       "3185  TCTCTTCCCTTCCCCTCTCTCTTTCTTTCTTTTCTCTCCTCTTCTC...  \n",
       "3186  GAGCTCCCAGAGCAGCAAGAGGGCCAGCTGAAGCACCTGGAGAAGC...  \n",
       "3187  TCTCGGGGGCGGCCGGCGCGGCGGGGAGCGGTCCCCGGCCGCGGCC...  \n",
       "3188  ATTCTACTTAGTAAACATAATTTCTTGTGCTAGATAACCAAATTAA...  \n",
       "3189  AGGCTGCCTATCAGAAGGTGGTGGCTGGTGTGGCTGCTGCTCTGGC...  \n",
       "\n",
       "[3190 rows x 3 columns]"
      ]
     },
     "execution_count": 4,
     "metadata": {},
     "output_type": "execute_result"
    }
   ],
   "source": [
    "dna_data"
   ]
  },
  {
   "cell_type": "code",
   "execution_count": 5,
   "id": "adaa235e-ac64-420e-b88f-56acd5a77056",
   "metadata": {},
   "outputs": [],
   "source": [
    "def Kmer_Sequences(dna_seq,size=6):\n",
    "    all_combinations=[]\n",
    "    for x in range(len(dna_seq)-size +1):\n",
    "        all_combinations.append(dna_seq[x:x+size].lower())\n",
    "    return all_combinations"
   ]
  },
  {
   "cell_type": "code",
   "execution_count": 6,
   "id": "60f90676-387a-47b5-81ae-358f95143bb9",
   "metadata": {},
   "outputs": [],
   "source": [
    "dna_data['subsequences'] = dna_data.apply(lambda x:Kmer_Sequences(x['DNA_Sequence']),axis=1).values"
   ]
  },
  {
   "cell_type": "code",
   "execution_count": 7,
   "id": "d82d4606-832f-43e0-a76d-e74a33fb726f",
   "metadata": {},
   "outputs": [
    {
     "data": {
      "text/plain": [
       "0       [ccagct, cagctg, agctgc, gctgca, ctgcat, tgcat...\n",
       "1       [agaccc, gacccg, acccgc, cccgcc, ccgccg, cgccg...\n",
       "2       [gaggtg, aggtga, ggtgaa, gtgaag, tgaagg, gaagg...\n",
       "3       [gggctg, ggctgc, gctgcg, ctgcgt, tgcgtt, gcgtt...\n",
       "4       [gctcag, ctcagc, tcagcc, cagccc, agcccc, gcccc...\n",
       "                              ...                        \n",
       "3185    [tctctt, ctcttc, tcttcc, cttccc, ttccct, tccct...\n",
       "3186    [gagctc, agctcc, gctccc, ctccca, tcccag, cccag...\n",
       "3187    [tctcgg, ctcggg, tcgggg, cggggg, gggggc, ggggc...\n",
       "3188    [attcta, ttctac, tctact, ctactt, tactta, actta...\n",
       "3189    [aggctg, ggctgc, gctgcc, ctgcct, tgccta, gccta...\n",
       "Name: subsequences, Length: 3190, dtype: object"
      ]
     },
     "execution_count": 7,
     "metadata": {},
     "output_type": "execute_result"
    }
   ],
   "source": [
    "dna_data['subsequences']"
   ]
  },
  {
   "cell_type": "code",
   "execution_count": 8,
   "id": "c0147828-3b61-4448-903b-dd1864cfcb72",
   "metadata": {},
   "outputs": [
    {
     "data": {
      "text/html": [
       "<div>\n",
       "<style scoped>\n",
       "    .dataframe tbody tr th:only-of-type {\n",
       "        vertical-align: middle;\n",
       "    }\n",
       "\n",
       "    .dataframe tbody tr th {\n",
       "        vertical-align: top;\n",
       "    }\n",
       "\n",
       "    .dataframe thead th {\n",
       "        text-align: right;\n",
       "    }\n",
       "</style>\n",
       "<table border=\"1\" class=\"dataframe\">\n",
       "  <thead>\n",
       "    <tr style=\"text-align: right;\">\n",
       "      <th></th>\n",
       "      <th>Point_of_Connectivity</th>\n",
       "      <th>Gene_ID</th>\n",
       "      <th>DNA_Sequence</th>\n",
       "      <th>subsequences</th>\n",
       "    </tr>\n",
       "  </thead>\n",
       "  <tbody>\n",
       "    <tr>\n",
       "      <th>0</th>\n",
       "      <td>EI</td>\n",
       "      <td>ATRINS-DONOR-521</td>\n",
       "      <td>CCAGCTGCATCACAGGAGGCCAGCGAGCAGGTCTGTTCCAAGGGCC...</td>\n",
       "      <td>[ccagct, cagctg, agctgc, gctgca, ctgcat, tgcat...</td>\n",
       "    </tr>\n",
       "    <tr>\n",
       "      <th>1</th>\n",
       "      <td>EI</td>\n",
       "      <td>ATRINS-DONOR-905</td>\n",
       "      <td>AGACCCGCCGGGAGGCGGAGGACCTGCAGGGTGAGCCCCACCGCCC...</td>\n",
       "      <td>[agaccc, gacccg, acccgc, cccgcc, ccgccg, cgccg...</td>\n",
       "    </tr>\n",
       "    <tr>\n",
       "      <th>2</th>\n",
       "      <td>EI</td>\n",
       "      <td>BABAPOE-DONOR-30</td>\n",
       "      <td>GAGGTGAAGGACGTCCTTCCCCAGGAGCCGGTGAGAAGCGCAGTCG...</td>\n",
       "      <td>[gaggtg, aggtga, ggtgaa, gtgaag, tgaagg, gaagg...</td>\n",
       "    </tr>\n",
       "    <tr>\n",
       "      <th>3</th>\n",
       "      <td>EI</td>\n",
       "      <td>BABAPOE-DONOR-867</td>\n",
       "      <td>GGGCTGCGTTGCTGGTCACATTCCTGGCAGGTATGGGGCGGGGCTT...</td>\n",
       "      <td>[gggctg, ggctgc, gctgcg, ctgcgt, tgcgtt, gcgtt...</td>\n",
       "    </tr>\n",
       "    <tr>\n",
       "      <th>4</th>\n",
       "      <td>EI</td>\n",
       "      <td>BABAPOE-DONOR-2817</td>\n",
       "      <td>GCTCAGCCCCCAGGTCACCCAGGAACTGACGTGAGTGTCCCCATCC...</td>\n",
       "      <td>[gctcag, ctcagc, tcagcc, cagccc, agcccc, gcccc...</td>\n",
       "    </tr>\n",
       "    <tr>\n",
       "      <th>...</th>\n",
       "      <td>...</td>\n",
       "      <td>...</td>\n",
       "      <td>...</td>\n",
       "      <td>...</td>\n",
       "    </tr>\n",
       "    <tr>\n",
       "      <th>3185</th>\n",
       "      <td>N</td>\n",
       "      <td>ORAHBPSBD-NEG-2881</td>\n",
       "      <td>TCTCTTCCCTTCCCCTCTCTCTTTCTTTCTTTTCTCTCCTCTTCTC...</td>\n",
       "      <td>[tctctt, ctcttc, tcttcc, cttccc, ttccct, tccct...</td>\n",
       "    </tr>\n",
       "    <tr>\n",
       "      <th>3186</th>\n",
       "      <td>N</td>\n",
       "      <td>ORAINVOL-NEG-2161</td>\n",
       "      <td>GAGCTCCCAGAGCAGCAAGAGGGCCAGCTGAAGCACCTGGAGAAGC...</td>\n",
       "      <td>[gagctc, agctcc, gctccc, ctccca, tcccag, cccag...</td>\n",
       "    </tr>\n",
       "    <tr>\n",
       "      <th>3187</th>\n",
       "      <td>N</td>\n",
       "      <td>ORARGIT-NEG-241</td>\n",
       "      <td>TCTCGGGGGCGGCCGGCGCGGCGGGGAGCGGTCCCCGGCCGCGGCC...</td>\n",
       "      <td>[tctcgg, ctcggg, tcgggg, cggggg, gggggc, ggggc...</td>\n",
       "    </tr>\n",
       "    <tr>\n",
       "      <th>3188</th>\n",
       "      <td>N</td>\n",
       "      <td>TARHBB-NEG-541</td>\n",
       "      <td>ATTCTACTTAGTAAACATAATTTCTTGTGCTAGATAACCAAATTAA...</td>\n",
       "      <td>[attcta, ttctac, tctact, ctactt, tactta, actta...</td>\n",
       "    </tr>\n",
       "    <tr>\n",
       "      <th>3189</th>\n",
       "      <td>N</td>\n",
       "      <td>TARHBD-NEG-1981</td>\n",
       "      <td>AGGCTGCCTATCAGAAGGTGGTGGCTGGTGTGGCTGCTGCTCTGGC...</td>\n",
       "      <td>[aggctg, ggctgc, gctgcc, ctgcct, tgccta, gccta...</td>\n",
       "    </tr>\n",
       "  </tbody>\n",
       "</table>\n",
       "<p>3190 rows × 4 columns</p>\n",
       "</div>"
      ],
      "text/plain": [
       "     Point_of_Connectivity                  Gene_ID  \\\n",
       "0                       EI         ATRINS-DONOR-521   \n",
       "1                       EI         ATRINS-DONOR-905   \n",
       "2                       EI         BABAPOE-DONOR-30   \n",
       "3                       EI        BABAPOE-DONOR-867   \n",
       "4                       EI       BABAPOE-DONOR-2817   \n",
       "...                    ...                      ...   \n",
       "3185                     N       ORAHBPSBD-NEG-2881   \n",
       "3186                     N        ORAINVOL-NEG-2161   \n",
       "3187                     N          ORARGIT-NEG-241   \n",
       "3188                     N           TARHBB-NEG-541   \n",
       "3189                     N          TARHBD-NEG-1981   \n",
       "\n",
       "                                           DNA_Sequence  \\\n",
       "0     CCAGCTGCATCACAGGAGGCCAGCGAGCAGGTCTGTTCCAAGGGCC...   \n",
       "1     AGACCCGCCGGGAGGCGGAGGACCTGCAGGGTGAGCCCCACCGCCC...   \n",
       "2     GAGGTGAAGGACGTCCTTCCCCAGGAGCCGGTGAGAAGCGCAGTCG...   \n",
       "3     GGGCTGCGTTGCTGGTCACATTCCTGGCAGGTATGGGGCGGGGCTT...   \n",
       "4     GCTCAGCCCCCAGGTCACCCAGGAACTGACGTGAGTGTCCCCATCC...   \n",
       "...                                                 ...   \n",
       "3185  TCTCTTCCCTTCCCCTCTCTCTTTCTTTCTTTTCTCTCCTCTTCTC...   \n",
       "3186  GAGCTCCCAGAGCAGCAAGAGGGCCAGCTGAAGCACCTGGAGAAGC...   \n",
       "3187  TCTCGGGGGCGGCCGGCGCGGCGGGGAGCGGTCCCCGGCCGCGGCC...   \n",
       "3188  ATTCTACTTAGTAAACATAATTTCTTGTGCTAGATAACCAAATTAA...   \n",
       "3189  AGGCTGCCTATCAGAAGGTGGTGGCTGGTGTGGCTGCTGCTCTGGC...   \n",
       "\n",
       "                                           subsequences  \n",
       "0     [ccagct, cagctg, agctgc, gctgca, ctgcat, tgcat...  \n",
       "1     [agaccc, gacccg, acccgc, cccgcc, ccgccg, cgccg...  \n",
       "2     [gaggtg, aggtga, ggtgaa, gtgaag, tgaagg, gaagg...  \n",
       "3     [gggctg, ggctgc, gctgcg, ctgcgt, tgcgtt, gcgtt...  \n",
       "4     [gctcag, ctcagc, tcagcc, cagccc, agcccc, gcccc...  \n",
       "...                                                 ...  \n",
       "3185  [tctctt, ctcttc, tcttcc, cttccc, ttccct, tccct...  \n",
       "3186  [gagctc, agctcc, gctccc, ctccca, tcccag, cccag...  \n",
       "3187  [tctcgg, ctcggg, tcgggg, cggggg, gggggc, ggggc...  \n",
       "3188  [attcta, ttctac, tctact, ctactt, tactta, actta...  \n",
       "3189  [aggctg, ggctgc, gctgcc, ctgcct, tgccta, gccta...  \n",
       "\n",
       "[3190 rows x 4 columns]"
      ]
     },
     "execution_count": 8,
     "metadata": {},
     "output_type": "execute_result"
    }
   ],
   "source": [
    "dna_data"
   ]
  },
  {
   "cell_type": "code",
   "execution_count": 9,
   "id": "bf54e6db-ebb3-45c2-b500-388e6e7dff5e",
   "metadata": {},
   "outputs": [],
   "source": [
    "dna_data2 = list(dna_data['subsequences'])"
   ]
  },
  {
   "cell_type": "code",
   "execution_count": 10,
   "id": "f84549b4-353d-461a-aa1a-5e59a5524af0",
   "metadata": {},
   "outputs": [],
   "source": [
    "for item in range(len(dna_data2)):\n",
    "    dna_data2[item] = ' '.join(dna_data2[item])"
   ]
  },
  {
   "cell_type": "code",
   "execution_count": 11,
   "id": "7eebfde3-d71a-4000-8fcb-ef4152f191c9",
   "metadata": {},
   "outputs": [
    {
     "name": "stdout",
     "output_type": "stream",
     "text": [
      "gaggtg aggtga ggtgaa gtgaag tgaagg gaagga aaggac aggacg ggacgt gacgtc acgtcc cgtcct gtcctt tccttc ccttcc cttccc ttcccc tcccca ccccag cccagg ccagga caggag aggagc ggagcc gagccg agccgg gccggt ccggtg cggtga ggtgag gtgaga tgagaa gagaag agaagc gaagcg aagcgc agcgca gcgcag cgcagt gcagtc cagtcg agtcgg gtcggg tcgggg cggggg gggggc ggggca gggcac ggcacg gcacgg cacggg acgggg cgggga ggggat gggatg\n"
     ]
    }
   ],
   "source": [
    "print(dna_data2[2])"
   ]
  },
  {
   "cell_type": "code",
   "execution_count": 12,
   "id": "b148d8f7-4700-4f60-8ca3-581a79277c44",
   "metadata": {},
   "outputs": [],
   "source": [
    "from sklearn.feature_extraction.text import CountVectorizer\n",
    "cnt_vec = CountVectorizer(ngram_range=(2,2))\n",
    "X = cnt_vec.fit_transform(dna_data2)\n",
    "Y = dna_data['Point_of_Connectivity']"
   ]
  },
  {
   "cell_type": "code",
   "execution_count": 13,
   "id": "7953357b-0f83-4ff4-9f35-c1518d42b7cd",
   "metadata": {},
   "outputs": [
    {
     "data": {
      "text/plain": [
       "<AxesSubplot:>"
      ]
     },
     "execution_count": 13,
     "metadata": {},
     "output_type": "execute_result"
    },
    {
     "data": {
      "image/png": "[encoded data removed]",
      "text/plain": [
       "<Figure size 432x288 with 1 Axes>"
      ]
     },
     "metadata": {
      "needs_background": "light"
     },
     "output_type": "display_data"
    }
   ],
   "source": [
    "dna_data['Point_of_Connectivity'].value_counts().sort_index().plot.bar()"
   ]
  },
  {
   "cell_type": "code",
   "execution_count": 14,
   "id": "1ad37e4a-e683-4216-b554-c6188191e9c5",
   "metadata": {},
   "outputs": [],
   "source": [
    "from sklearn.model_selection import train_test_split\n",
    "X_train, X_test, Y_train, Y_test = train_test_split(X, Y, test_size = 0.2, random_state=42)"
   ]
  },
  {
   "cell_type": "code",
   "execution_count": 15,
   "id": "d32941f0-01fb-4451-bdbf-ae2ecc1b1b2c",
   "metadata": {},
   "outputs": [
    {
     "name": "stdout",
     "output_type": "stream",
     "text": [
      "(2552, 15833)\n",
      "(638, 15833)\n"
     ]
    }
   ],
   "source": [
    "print(X_train.shape)\n",
    "print(X_test.shape)"
   ]
  },
  {
   "cell_type": "code",
   "execution_count": 16,
   "id": "d5d070ee-c8fd-408b-804f-74ce4a6a8384",
   "metadata": {},
   "outputs": [
    {
     "data": {
      "text/plain": [
       "MultinomialNB(alpha=0.5)"
      ]
     },
     "execution_count": 16,
     "metadata": {},
     "output_type": "execute_result"
    }
   ],
   "source": [
    "from sklearn.naive_bayes import MultinomialNB\n",
    "classifier = MultinomialNB(alpha=0.5)\n",
    "classifier.fit(X_train, Y_train)"
   ]
  },
  {
   "cell_type": "code",
   "execution_count": 17,
   "id": "eb3425ae-6e7f-4e70-9297-834bb2e45d84",
   "metadata": {},
   "outputs": [],
   "source": [
    "Y_pred = classifier.predict(X_test)"
   ]
  },
  {
   "cell_type": "code",
   "execution_count": 18,
   "id": "245ecf11-a0fa-4200-aea3-284244779d55",
   "metadata": {},
   "outputs": [],
   "source": [
    "from sklearn.metrics import accuracy_score, f1_score, precision_score, recall_score"
   ]
  },
  {
   "cell_type": "code",
   "execution_count": 19,
   "id": "3e24aea0-a8da-42c7-8558-418a42b31b2e",
   "metadata": {},
   "outputs": [
    {
     "name": "stdout",
     "output_type": "stream",
     "text": [
      "Confusion matrix\n",
      "\n",
      "Predicted  EI  IE   N\n",
      "Actual               \n",
      "EI         43  38  78\n",
      "accuracy = 0.704 \n",
      "precision = 0.704 \n",
      "recall = 0.704 \n",
      "f1 = 0.703\n"
     ]
    }
   ],
   "source": [
    "print(\"Confusion matrix\\n\")\n",
    "print(pd.crosstab(pd.Series(Y_test, name='Actual'), pd.Series(Y_pred, name='Predicted')))\n",
    "def get_metrics(y_test, y_predicted):\n",
    "    accuracy = accuracy_score(y_test, y_predicted)\n",
    "    precision = precision_score(y_test, y_predicted, average='weighted')\n",
    "    recall = recall_score(y_test, y_predicted, average='weighted')\n",
    "    f1 = f1_score(y_test, y_predicted, average='weighted')\n",
    "    return accuracy, precision, recall, f1\n",
    "accuracy, precision, recall, f1 = get_metrics(Y_test, Y_pred)\n",
    "print(\"accuracy = %.3f \\nprecision = %.3f \\nrecall = %.3f \\nf1 = %.3f\" % (accuracy, precision, recall, f1))"
   ]
  },
  {
   "cell_type": "code",
   "execution_count": 21,
   "id": "d7495324-fffd-419a-a6d1-c55143e77ada",
   "metadata": {},
   "outputs": [
    {
     "data": {
      "text/plain": [
       "array([[0, 0, 0, ..., 0, 0, 0],\n",
       "       [0, 0, 0, ..., 0, 0, 0],\n",
       "       [0, 0, 0, ..., 0, 0, 0],\n",
       "       ...,\n",
       "       [0, 0, 0, ..., 0, 0, 0],\n",
       "       [0, 0, 0, ..., 0, 0, 0],\n",
       "       [0, 0, 0, ..., 0, 0, 0]], dtype=int64)"
      ]
     },
     "execution_count": 21,
     "metadata": {},
     "output_type": "execute_result"
    }
   ],
   "source": [
    "X.toarray()"
   ]
  },
  {
   "cell_type": "code",
   "execution_count": null,
   "id": "e94e07b6-459d-4223-b650-3488af447399",
   "metadata": {},
   "outputs": [],
   "source": []
  }
 ],
 "metadata": {
  "kernelspec": {
   "display_name": "Python 3 (ipykernel)",
   "language": "python",
   "name": "python3"
  },
  "language_info": {
   "codemirror_mode": {
    "name": "ipython",
    "version": 3
   },
   "file_extension": ".py",
   "mimetype": "text/x-python",
   "name": "python",
   "nbconvert_exporter": "python",
   "pygments_lexer": "ipython3",
   "version": "3.9.0"
  }
 },
 "nbformat": 4,
 "nbformat_minor": 5
}
